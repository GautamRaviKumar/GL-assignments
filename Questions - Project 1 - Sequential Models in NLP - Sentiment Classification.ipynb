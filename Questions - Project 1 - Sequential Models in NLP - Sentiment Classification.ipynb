{
 "cells": [
  {
   "cell_type": "markdown",
   "metadata": {
    "colab_type": "text",
    "id": "WXaFSkUu0fzm"
   },
   "source": [
    "![alt text](https://drive.google.com/uc?export=view&id=1UXScsVx_Wni_JuDdB8LeTnM6jsPfIwkW)\n",
    "\n",
    "Proprietary content. © Great Learning. All Rights Reserved. Unauthorized use or distribution prohibited."
   ]
  },
  {
   "cell_type": "markdown",
   "metadata": {
    "colab_type": "text",
    "id": "OudB5by50jlI"
   },
   "source": [
    "# Sentiment Classification"
   ]
  },
  {
   "cell_type": "markdown",
   "metadata": {
    "colab_type": "text",
    "id": "xT7MKZuMRaCg"
   },
   "source": [
    "### Dataset\n",
    "- Dataset of 50,000 movie reviews from IMDB, labeled by sentiment positive (1) or negative (0)\n",
    "- Reviews have been preprocessed, and each review is encoded as a sequence of word indexes (integers).\n",
    "- For convenience, words are indexed by overall frequency in the dataset, so that for instance the integer \"3\" encodes the 3rd most frequent word in the data. This allows for quick filtering operations such as: \"only consider the top 10,000 most common words, but eliminate the top 20 most common words\".\n",
    "- As a convention, \"0\" does not stand for a specific word, but instead is used to encode any unknown word.\n",
    "\n",
    "Command to import data\n",
    "- `from tensorflow.keras.datasets import imdb`"
   ]
  },
  {
   "cell_type": "markdown",
   "metadata": {
    "colab_type": "text",
    "id": "Q34-Y3nRKXdO"
   },
   "source": [
    "### Import the data (2 Marks)\n",
    "- Use `imdb.load_data()` method\n",
    "- Get train and test set\n",
    "- Take 10000 most frequent words"
   ]
  },
  {
   "cell_type": "code",
   "execution_count": 1,
   "metadata": {
    "colab": {
     "base_uri": "https://localhost:8080/",
     "height": 52
    },
    "colab_type": "code",
    "executionInfo": {
     "elapsed": 8899,
     "status": "ok",
     "timestamp": 1599028133721,
     "user": {
      "displayName": "gautam ravikumar",
      "photoUrl": "",
      "userId": "03775498694533779183"
     },
     "user_tz": -240
    },
    "id": "JxfwbrbuKbk2",
    "outputId": "765e5742-8e09-4274-8848-72a2194b47ee"
   },
   "outputs": [],
   "source": [
    "#### Add your code here ####\n",
    "from tensorflow.keras.datasets import imdb\n",
    "(training_data, training_targets), (testing_data, testing_targets) = imdb.load_data(num_words=10000)"
   ]
  },
  {
   "cell_type": "markdown",
   "metadata": {
    "colab_type": "text",
    "id": "DldivBO4LTbP"
   },
   "source": [
    "### Pad each sentence to be of same length (2 Marks)\n",
    "- Take maximum sequence length as 300"
   ]
  },
  {
   "cell_type": "code",
   "execution_count": 2,
   "metadata": {
    "colab": {},
    "colab_type": "code",
    "executionInfo": {
     "elapsed": 9617,
     "status": "ok",
     "timestamp": 1599028134461,
     "user": {
      "displayName": "gautam ravikumar",
      "photoUrl": "",
      "userId": "03775498694533779183"
     },
     "user_tz": -240
    },
    "id": "E808XB4tLtic"
   },
   "outputs": [],
   "source": [
    "#### Add your code here ####\n",
    "from tensorflow.keras.preprocessing.sequence import pad_sequences\n",
    "padded_inputs = pad_sequences(training_data, maxlen=300, value = 0.0)\n",
    "padded_inputs_test = pad_sequences(testing_data, maxlen=300, value = 0.0) "
   ]
  },
  {
   "cell_type": "markdown",
   "metadata": {
    "colab_type": "text",
    "id": "JBFFCrybMSXz"
   },
   "source": [
    "### Print shape of features & labels (2 Marks)"
   ]
  },
  {
   "cell_type": "markdown",
   "metadata": {
    "colab_type": "text",
    "id": "qOcyRtZfMYZd"
   },
   "source": [
    "Number of review, number of words in each review"
   ]
  },
  {
   "cell_type": "code",
   "execution_count": 3,
   "metadata": {
    "colab": {
     "base_uri": "https://localhost:8080/",
     "height": 35
    },
    "colab_type": "code",
    "executionInfo": {
     "elapsed": 9588,
     "status": "ok",
     "timestamp": 1599028134465,
     "user": {
      "displayName": "gautam ravikumar",
      "photoUrl": "",
      "userId": "03775498694533779183"
     },
     "user_tz": -240
    },
    "id": "hdMCUPr7RaCm",
    "outputId": "71a41665-0144-4d65-9bcf-d40961bc1b67"
   },
   "outputs": [
    {
     "data": {
      "text/plain": [
       "(25000, 300)"
      ]
     },
     "execution_count": 3,
     "metadata": {},
     "output_type": "execute_result"
    }
   ],
   "source": [
    "#### Add your code here ####\n",
    "padded_inputs.shape"
   ]
  },
  {
   "cell_type": "code",
   "execution_count": 4,
   "metadata": {
    "colab": {
     "base_uri": "https://localhost:8080/",
     "height": 35
    },
    "colab_type": "code",
    "executionInfo": {
     "elapsed": 3159,
     "status": "ok",
     "timestamp": 1599028134467,
     "user": {
      "displayName": "gautam ravikumar",
      "photoUrl": "",
      "userId": "03775498694533779183"
     },
     "user_tz": -240
    },
    "id": "eGVHeKOWyJiG",
    "outputId": "d776b1f0-d77f-49cf-8931-b7ec23f84162"
   },
   "outputs": [
    {
     "data": {
      "text/plain": [
       "(25000, 300)"
      ]
     },
     "execution_count": 4,
     "metadata": {},
     "output_type": "execute_result"
    }
   ],
   "source": [
    "#### Add your code here ####\n",
    "padded_inputs_test.shape"
   ]
  },
  {
   "cell_type": "markdown",
   "metadata": {
    "colab_type": "text",
    "id": "5cNk5sDvMr3j"
   },
   "source": [
    "Number of labels"
   ]
  },
  {
   "cell_type": "code",
   "execution_count": 5,
   "metadata": {
    "colab": {
     "base_uri": "https://localhost:8080/",
     "height": 35
    },
    "colab_type": "code",
    "executionInfo": {
     "elapsed": 824,
     "status": "ok",
     "timestamp": 1599028134468,
     "user": {
      "displayName": "gautam ravikumar",
      "photoUrl": "",
      "userId": "03775498694533779183"
     },
     "user_tz": -240
    },
    "id": "6Z00-mYgMoKv",
    "outputId": "d1f696d5-9a15-485f-dd8a-1517cc679d43"
   },
   "outputs": [
    {
     "data": {
      "text/plain": [
       "(25000,)"
      ]
     },
     "execution_count": 5,
     "metadata": {},
     "output_type": "execute_result"
    }
   ],
   "source": [
    "#### Add your code here ####\n",
    "training_targets.shape"
   ]
  },
  {
   "cell_type": "code",
   "execution_count": 6,
   "metadata": {
    "colab": {
     "base_uri": "https://localhost:8080/",
     "height": 35
    },
    "colab_type": "code",
    "executionInfo": {
     "elapsed": 887,
     "status": "ok",
     "timestamp": 1599028136454,
     "user": {
      "displayName": "gautam ravikumar",
      "photoUrl": "",
      "userId": "03775498694533779183"
     },
     "user_tz": -240
    },
    "id": "H7f5tPeaMxti",
    "outputId": "c4c15cc2-6a9c-4f9a-f28a-bdd560360c76"
   },
   "outputs": [
    {
     "data": {
      "text/plain": [
       "(25000,)"
      ]
     },
     "execution_count": 6,
     "metadata": {},
     "output_type": "execute_result"
    }
   ],
   "source": [
    "#### Add your code here ####\n",
    "testing_targets.shape"
   ]
  },
  {
   "cell_type": "markdown",
   "metadata": {
    "colab_type": "text",
    "id": "NdXPWuOmNEbh"
   },
   "source": [
    "### Print value of any one feature and it's label (2 Marks)"
   ]
  },
  {
   "cell_type": "markdown",
   "metadata": {
    "colab_type": "text",
    "id": "MGLEdeFmNZfR"
   },
   "source": [
    "Feature value"
   ]
  },
  {
   "cell_type": "code",
   "execution_count": 7,
   "metadata": {
    "colab": {
     "base_uri": "https://localhost:8080/",
     "height": 399
    },
    "colab_type": "code",
    "executionInfo": {
     "elapsed": 1234,
     "status": "ok",
     "timestamp": 1599028140129,
     "user": {
      "displayName": "gautam ravikumar",
      "photoUrl": "",
      "userId": "03775498694533779183"
     },
     "user_tz": -240
    },
    "id": "RKFyMa28zztL",
    "outputId": "4eb36ab7-04da-41ba-c4e3-cd13517345f5"
   },
   "outputs": [
    {
     "name": "stdout",
     "output_type": "stream",
     "text": [
      "[   0    0    0    0    0    0    0    0    0    0    0    0    0    0\n",
      "    0    0    0    0    0    0    0    0    0    0    0    0    0    0\n",
      "    0    0    0    0    0    0    0    0    0    0    0    0    0    0\n",
      "    0    0    0    0    0    0    0    0    0    0    0    0    0    0\n",
      "    0    0    0    0    0    0    0    0    0    0    0    0    0    0\n",
      "    0    0    0    0    0    0    0    0    0    0    0    0    0    0\n",
      "    0    0    0    0    0    0    0    0    0    0    0    0    0    0\n",
      "    0    0    0    0    0    0    0    0    0    0    0    0    0    1\n",
      "  194 1153  194 8255   78  228    5    6 1463 4369 5012  134   26    4\n",
      "  715    8  118 1634   14  394   20   13  119  954  189  102    5  207\n",
      "  110 3103   21   14   69  188    8   30   23    7    4  249  126   93\n",
      "    4  114    9 2300 1523    5  647    4  116    9   35 8163    4  229\n",
      "    9  340 1322    4  118    9    4  130 4901   19    4 1002    5   89\n",
      "   29  952   46   37    4  455    9   45   43   38 1543 1905  398    4\n",
      " 1649   26 6853    5  163   11 3215    2    4 1153    9  194  775    7\n",
      " 8255    2  349 2637  148  605    2 8003   15  123  125   68    2 6853\n",
      "   15  349  165 4362   98    5    4  228    9   43    2 1157   15  299\n",
      "  120    5  120  174   11  220  175  136   50    9 4373  228 8255    5\n",
      "    2  656  245 2350    5    4 9837  131  152  491   18    2   32 7464\n",
      " 1212   14    9    6  371   78   22  625   64 1382    9    8  168  145\n",
      "   23    4 1690   15   16    4 1355    5   28    6   52  154  462   33\n",
      "   89   78  285   16  145   95]\n"
     ]
    }
   ],
   "source": [
    "#### Add your code here ####\n",
    "print(padded_inputs[1])"
   ]
  },
  {
   "cell_type": "markdown",
   "metadata": {
    "colab_type": "text",
    "id": "h_85Hqm0Nb1I"
   },
   "source": [
    "Label value"
   ]
  },
  {
   "cell_type": "code",
   "execution_count": 8,
   "metadata": {
    "colab": {
     "base_uri": "https://localhost:8080/",
     "height": 35
    },
    "colab_type": "code",
    "executionInfo": {
     "elapsed": 1271,
     "status": "ok",
     "timestamp": 1599028144470,
     "user": {
      "displayName": "gautam ravikumar",
      "photoUrl": "",
      "userId": "03775498694533779183"
     },
     "user_tz": -240
    },
    "id": "-FoehB5jNd1g",
    "outputId": "23c847e8-c281-4a2a-8267-513c911a2493"
   },
   "outputs": [
    {
     "name": "stdout",
     "output_type": "stream",
     "text": [
      "0\n"
     ]
    }
   ],
   "source": [
    "#### Add your code here ####\n",
    "print(training_targets[1])"
   ]
  },
  {
   "cell_type": "markdown",
   "metadata": {
    "colab_type": "text",
    "id": "0cof4LSxNxuv"
   },
   "source": [
    "### Decode the feature value to get original sentence (2 Marks)"
   ]
  },
  {
   "cell_type": "markdown",
   "metadata": {
    "colab_type": "text",
    "id": "Q_oiAyPZOkJD"
   },
   "source": [
    "First, retrieve a dictionary that contains mapping of words to their index in the IMDB dataset"
   ]
  },
  {
   "cell_type": "code",
   "execution_count": 9,
   "metadata": {
    "colab": {
     "base_uri": "https://localhost:8080/",
     "height": 52
    },
    "colab_type": "code",
    "executionInfo": {
     "elapsed": 1211,
     "status": "ok",
     "timestamp": 1599028148308,
     "user": {
      "displayName": "gautam ravikumar",
      "photoUrl": "",
      "userId": "03775498694533779183"
     },
     "user_tz": -240
    },
    "id": "Clsk-yK8OtzD",
    "outputId": "5799f345-b9a7-400c-f1e2-7d4b5341b1b1"
   },
   "outputs": [],
   "source": [
    "#### Add your code here ####\n",
    "word_index = imdb.get_word_index()"
   ]
  },
  {
   "cell_type": "markdown",
   "metadata": {
    "colab_type": "text",
    "id": "NRgOD5S2Uuvd"
   },
   "source": [
    "Now use the dictionary to get the original words from the encodings, for a particular sentence"
   ]
  },
  {
   "cell_type": "code",
   "execution_count": 11,
   "metadata": {
    "colab": {
     "base_uri": "https://localhost:8080/",
     "height": 139
    },
    "colab_type": "code",
    "executionInfo": {
     "elapsed": 1180,
     "status": "ok",
     "timestamp": 1599028267470,
     "user": {
      "displayName": "gautam ravikumar",
      "photoUrl": "",
      "userId": "03775498694533779183"
     },
     "user_tz": -240
    },
    "id": "zJ504QDORwxj",
    "outputId": "2806a652-89a3-462a-bb29-873e46e576ca"
   },
   "outputs": [
    {
     "data": {
      "text/plain": [
       "\"? ? ? ? ? ? ? ? ? ? ? ? ? ? ? ? ? ? ? ? ? ? ? ? ? ? ? ? ? ? ? ? ? ? ? ? ? ? ? ? ? ? ? ? ? ? ? ? ? ? ? ? ? ? ? ? ? ? ? ? ? ? ? ? ? ? ? ? ? ? ? ? ? ? ? ? ? ? ? ? ? ? ? this film was just brilliant casting location scenery story direction everyone's really suited the part they played and you could just imagine being there robert ? is an amazing actor and now the same being director ? father came from the same scottish island as myself so i loved the fact there was a real connection with this film the witty remarks throughout the film were great it was just brilliant so much that i bought the film as soon as it was released for ? and would recommend it to everyone to watch and the fly fishing was amazing really cried at the end it was so sad and you know what they say if you cry at a film it must have been good and this definitely was also ? to the two little boy's that played the ? of norman and paul they were just brilliant children are often left out of the ? list i think because the stars that play them all grown up are such a big profile for the whole film but these children are amazing and should be praised for what they have done don't you think the whole story was so lovely because it was true and was someone's life after all that was shared with us all\""
      ]
     },
     "execution_count": 11,
     "metadata": {},
     "output_type": "execute_result"
    }
   ],
   "source": [
    "#### Add your code here ####\n",
    "reverse_word_index = dict([(value, key) for (key, value) in word_index.items()])\n",
    "decoded_review = ' '.join([reverse_word_index.get(i-3, '?') for i in padded_inputs[0]])\n",
    "\n",
    "decoded_review"
   ]
  },
  {
   "cell_type": "markdown",
   "metadata": {
    "colab_type": "text",
    "id": "WLGABrJoVZe6"
   },
   "source": [
    "Get the sentiment for the above sentence\n",
    "- positive (1)\n",
    "- negative (0)"
   ]
  },
  {
   "cell_type": "code",
   "execution_count": 12,
   "metadata": {
    "colab": {
     "base_uri": "https://localhost:8080/",
     "height": 35
    },
    "colab_type": "code",
    "executionInfo": {
     "elapsed": 1256,
     "status": "ok",
     "timestamp": 1599028280483,
     "user": {
      "displayName": "gautam ravikumar",
      "photoUrl": "",
      "userId": "03775498694533779183"
     },
     "user_tz": -240
    },
    "id": "XDyQGJT0Ve-a",
    "outputId": "23883b8c-794b-428b-fc1b-294be2879d32"
   },
   "outputs": [
    {
     "name": "stdout",
     "output_type": "stream",
     "text": [
      "1\n"
     ]
    }
   ],
   "source": [
    "#### Add your code here ####\n",
    "print(training_targets[0])"
   ]
  },
  {
   "cell_type": "markdown",
   "metadata": {
    "colab_type": "text",
    "id": "BmCjr8miXIWB"
   },
   "source": [
    "### Define model (10 Marks)\n",
    "- Define a Sequential Model\n",
    "- Add Embedding layer\n",
    "  - Embedding layer turns positive integers into dense vectors of fixed size\n",
    "  - `tensorflow.keras` embedding layer doesn't require us to onehot encode our words, instead we have to give each word a unique integer number as an id. For the imdb dataset we've loaded this has already been done, but if this wasn't the case we could use sklearn LabelEncoder.\n",
    "  - Size of the vocabulary will be 10000\n",
    "  - Give dimension of the dense embedding as 100\n",
    "  - Length of input sequences should be 300\n",
    "- Add LSTM layer\n",
    "  - Pass value in `return_sequences` as True\n",
    "- Add a `TimeDistributed` layer with 100 Dense neurons\n",
    "- Add Flatten layer\n",
    "- Add Dense layer"
   ]
  },
  {
   "cell_type": "code",
   "execution_count": 20,
   "metadata": {
    "colab": {
     "base_uri": "https://localhost:8080/",
     "height": 55
    },
    "colab_type": "code",
    "executionInfo": {
     "elapsed": 1034,
     "status": "ok",
     "timestamp": 1599028902059,
     "user": {
      "displayName": "gautam ravikumar",
      "photoUrl": "",
      "userId": "03775498694533779183"
     },
     "user_tz": -240
    },
    "id": "Np5GxT1caFEq",
    "outputId": "6729435d-b21c-4230-9353-fba86ff4c893"
   },
   "outputs": [],
   "source": [
    "#### Add your code here ####\n",
    "from tensorflow.keras.models import Model\n",
    "from tensorflow.keras.layers import LSTM, Embedding, Dense, TimeDistributed, Dropout, Bidirectional, Input,Flatten,Activation\n",
    "input = Input(shape=(300,))\n",
    "model = Embedding(input_dim=10000, output_dim=100, input_length=300)(input)\n",
    "model = Bidirectional(LSTM(units=100, return_sequences=True, recurrent_dropout=0.1))(model)\n",
    "model = TimeDistributed(Dense(100, activation=\"softmax\"))(model)\n",
    "model = Flatten()(model)\n",
    "out = Dense(units=1, activation='sigmoid')(model)\n",
    "model = Model(input, out)"
   ]
  },
  {
   "cell_type": "markdown",
   "metadata": {
    "colab_type": "text",
    "id": "Hc4bknOobDby"
   },
   "source": [
    "### Compile the model (2 Marks)\n",
    "- Use Optimizer as Adam\n",
    "- Use Binary Crossentropy as loss\n",
    "- Use Accuracy as metrics"
   ]
  },
  {
   "cell_type": "code",
   "execution_count": 21,
   "metadata": {
    "colab": {},
    "colab_type": "code",
    "executionInfo": {
     "elapsed": 1109,
     "status": "ok",
     "timestamp": 1599028915754,
     "user": {
      "displayName": "gautam ravikumar",
      "photoUrl": "",
      "userId": "03775498694533779183"
     },
     "user_tz": -240
    },
    "id": "jw4RJ0CQbwFY"
   },
   "outputs": [],
   "source": [
    "#### Add your code here ####\n",
    "model.compile(optimizer=\"Adam\", loss=\"categorical_crossentropy\", metrics=[\"accuracy\"])"
   ]
  },
  {
   "cell_type": "markdown",
   "metadata": {
    "colab_type": "text",
    "id": "8sEzwazqbz3T"
   },
   "source": [
    "### Print model summary (2 Marks)"
   ]
  },
  {
   "cell_type": "code",
   "execution_count": 22,
   "metadata": {
    "colab": {
     "base_uri": "https://localhost:8080/",
     "height": 329
    },
    "colab_type": "code",
    "executionInfo": {
     "elapsed": 1046,
     "status": "ok",
     "timestamp": 1599028919199,
     "user": {
      "displayName": "gautam ravikumar",
      "photoUrl": "",
      "userId": "03775498694533779183"
     },
     "user_tz": -240
    },
    "id": "6Hx1yxwlb2Ue",
    "outputId": "182ea9f2-f704-4406-a53a-a67a753028db"
   },
   "outputs": [
    {
     "name": "stdout",
     "output_type": "stream",
     "text": [
      "Model: \"model_4\"\n",
      "_________________________________________________________________\n",
      "Layer (type)                 Output Shape              Param #   \n",
      "=================================================================\n",
      "input_8 (InputLayer)         [(None, 300)]             0         \n",
      "_________________________________________________________________\n",
      "embedding_7 (Embedding)      (None, 300, 100)          1000000   \n",
      "_________________________________________________________________\n",
      "bidirectional_7 (Bidirection (None, 300, 200)          160800    \n",
      "_________________________________________________________________\n",
      "time_distributed_6 (TimeDist (None, 300, 100)          20100     \n",
      "_________________________________________________________________\n",
      "flatten (Flatten)            (None, 30000)             0         \n",
      "_________________________________________________________________\n",
      "dense_7 (Dense)              (None, 1)                 30001     \n",
      "=================================================================\n",
      "Total params: 1,210,901\n",
      "Trainable params: 1,210,901\n",
      "Non-trainable params: 0\n",
      "_________________________________________________________________\n"
     ]
    }
   ],
   "source": [
    "#### Add your code here ####\n",
    "model.summary() "
   ]
  },
  {
   "cell_type": "markdown",
   "metadata": {
    "colab_type": "text",
    "id": "bmkolKP4b-U6"
   },
   "source": [
    "### Fit the model (2 Marks)"
   ]
  },
  {
   "cell_type": "code",
   "execution_count": 24,
   "metadata": {
    "colab": {
     "base_uri": "https://localhost:8080/",
     "height": 121
    },
    "colab_type": "code",
    "id": "vRg3KFXLcAkk",
    "outputId": "7469fb67-a7dc-41d3-cdab-f1a6b86f54a1"
   },
   "outputs": [
    {
     "name": "stdout",
     "output_type": "stream",
     "text": [
      "Epoch 1/3\n",
      "704/704 [==============================] - 1400s 2s/step - loss: 5.9769e-08 - accuracy: 0.4986 - val_loss: 5.8126e-08 - val_accuracy: 0.5124\n",
      "Epoch 2/3\n",
      "704/704 [==============================] - 1286s 2s/step - loss: 5.9769e-08 - accuracy: 0.4986 - val_loss: 5.8126e-08 - val_accuracy: 0.5124\n",
      "Epoch 3/3\n",
      "704/704 [==============================] - 1197s 2s/step - loss: 5.9769e-08 - accuracy: 0.4986 - val_loss: 5.8126e-08 - val_accuracy: 0.5124\n"
     ]
    }
   ],
   "source": [
    "#### Add your code here ####\n",
    "import numpy as np\n",
    "history = model.fit(padded_inputs, training_targets, batch_size=32, epochs=3, validation_split=0.1, verbose=1)"
   ]
  },
  {
   "cell_type": "markdown",
   "metadata": {
    "colab_type": "text",
    "id": "bwLl54MXnkEA"
   },
   "source": [
    "### Evaluate model (2 Marks)"
   ]
  },
  {
   "cell_type": "code",
   "execution_count": 25,
   "metadata": {
    "colab": {
     "base_uri": "https://localhost:8080/",
     "height": 35
    },
    "colab_type": "code",
    "executionInfo": {
     "elapsed": 961,
     "status": "ok",
     "timestamp": 1599032073838,
     "user": {
      "displayName": "gautam ravikumar",
      "photoUrl": "",
      "userId": "03775498694533779183"
     },
     "user_tz": -240
    },
    "id": "EUqY-bD8RaDR",
    "outputId": "8384d1b9-655f-4ed9-8090-207ec75c3ba9"
   },
   "outputs": [
    {
     "name": "stdout",
     "output_type": "stream",
     "text": [
      "0.5123999714851379\n"
     ]
    }
   ],
   "source": [
    "#### Add your code here ####\n",
    "print(np.mean(history.history[\"val_accuracy\"]))"
   ]
  },
  {
   "cell_type": "markdown",
   "metadata": {
    "colab_type": "text",
    "id": "h2amr1tJn9Jz"
   },
   "source": [
    "### Predict on one sample (2 Marks)"
   ]
  },
  {
   "cell_type": "code",
   "execution_count": 26,
   "metadata": {
    "colab": {},
    "colab_type": "code",
    "executionInfo": {
     "elapsed": 999,
     "status": "ok",
     "timestamp": 1599033304081,
     "user": {
      "displayName": "gautam ravikumar",
      "photoUrl": "",
      "userId": "03775498694533779183"
     },
     "user_tz": -240
    },
    "id": "Wl4idfWR_A8E"
   },
   "outputs": [
    {
     "name": "stdout",
     "output_type": "stream",
     "text": [
      "[0.49397016]\n"
     ]
    }
   ],
   "source": [
    "#### Add your code here ####\n",
    "print(model.predict(padded_inputs_test)[0])"
   ]
  }
 ],
 "metadata": {
  "accelerator": "GPU",
  "colab": {
   "collapsed_sections": [],
   "name": "Questions - Project 1 - Sequential Models in NLP - Sentiment Classification.ipynb",
   "provenance": []
  },
  "kernelspec": {
   "display_name": "Python 3",
   "language": "python",
   "name": "python3"
  },
  "language_info": {
   "codemirror_mode": {
    "name": "ipython",
    "version": 3
   },
   "file_extension": ".py",
   "mimetype": "text/x-python",
   "name": "python",
   "nbconvert_exporter": "python",
   "pygments_lexer": "ipython3",
   "version": "3.7.4"
  }
 },
 "nbformat": 4,
 "nbformat_minor": 1
}
